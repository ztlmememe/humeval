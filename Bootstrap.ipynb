{
 "cells": [
  {
   "cell_type": "code",
   "execution_count": 59,
   "metadata": {},
   "outputs": [
    {
     "name": "stdout",
     "output_type": "stream",
     "text": [
      "The video evaluation is complete completed_pairs 1185\n",
      "The video evaluation is complete completed_pairs 1179\n",
      "The video evaluation is complete completed_pairs 1037\n",
      "The video evaluation is complete completed_pairs 984\n",
      "The video evaluation is complete completed_pairs 1085\n",
      "Dimension1: Rao and Kupper Model Rankings: {'gen2': 1, 'pika': 2, 'vgen': 3, 'videocrafter2': 4, 'latte': 5}\n",
      "Dimension1: Rao and Kupper Model Scores: {'gen2': 2.1444417393137702, 'vgen': 0.9575251390041098, 'pika': 1.1529401835639805, 'latte': 0.8358855260147968, 'videocrafter2': 0.8686771044126825}\n",
      "Dimension2: Rao and Kupper Model Rankings: {'gen2': 1, 'pika': 2, 'vgen': 3, 'latte': 4, 'videocrafter2': 5}\n",
      "Dimension2: Rao and Kupper Model Scores: {'gen2': 2.0006063140120443, 'latte': 0.9730750791506807, 'pika': 1.359377864190342, 'vgen': 1.0085623268106418, 'videocrafter2': 0.8321597640407007}\n",
      "Dimension3: Rao and Kupper Model Rankings: {'gen2': 1, 'pika': 2, 'vgen': 3, 'videocrafter2': 4, 'latte': 5}\n",
      "Dimension3: Rao and Kupper Model Scores: {'gen2': 2.1447795024871477, 'latte': 0.8218632778668274, 'pika': 1.255719468926438, 'vgen': 1.0172120370552953, 'videocrafter2': 0.8583095515654067}\n",
      "Dimension4: Rao and Kupper Model Rankings: {'gen2': 1, 'latte': 2, 'pika': 3, 'vgen': 4, 'videocrafter2': 5}\n",
      "Dimension4: Rao and Kupper Model Scores: {'gen2': 2.9424677793888003, 'latte': 1.506001815573092, 'pika': 1.1864519991092213, 'vgen': 0.8198850422177818, 'videocrafter2': 0.5021620045014478}\n",
      "Dimension5: Rao and Kupper Model Rankings: {'gen2': 1, 'latte': 2, 'pika': 3, 'vgen': 4, 'videocrafter2': 5}\n",
      "Dimension5: Rao and Kupper Model Scores: {'gen2': 3.688573139216895, 'latte': 1.5442505829104083, 'vgen': 0.5323890368756362, 'pika': 0.9732852551322998, 'videocrafter2': 0.33764904212610675}\n",
      "Dimension6: Rao and Kupper Model Rankings: {'gen2': 1, 'pika': 2, 'latte': 3, 'vgen': 4, 'videocrafter2': 5}\n",
      "Dimension6: Rao and Kupper Model Scores: {'gen2': 2.6571078868998614, 'latte': 0.9029911352667136, 'pika': 1.065853839831464, 'vgen': 0.7287715823071585, 'videocrafter2': 0.6270106596509948}\n",
      "The video evaluation is complete completed_pairs 597\n",
      "The video evaluation is complete completed_pairs 842\n",
      "The video evaluation is complete completed_pairs 1073\n"
     ]
    },
    {
     "ename": "KeyboardInterrupt",
     "evalue": "",
     "output_type": "error",
     "traceback": [
      "\u001b[0;31m---------------------------------------------------------------------------\u001b[0m",
      "\u001b[0;31mKeyboardInterrupt\u001b[0m                         Traceback (most recent call last)",
      "Input \u001b[0;32mIn [59]\u001b[0m, in \u001b[0;36m<cell line: 29>\u001b[0;34m()\u001b[0m\n\u001b[1;32m     35\u001b[0m         indices \u001b[38;5;241m=\u001b[39m np\u001b[38;5;241m.\u001b[39mrandom\u001b[38;5;241m.\u001b[39mchoice(df\u001b[38;5;241m.\u001b[39mindex, \u001b[38;5;28mlen\u001b[39m(df))\n\u001b[1;32m     36\u001b[0m         bs_df_list\u001b[38;5;241m.\u001b[39mappend(df\u001b[38;5;241m.\u001b[39mloc[indices])\n\u001b[0;32m---> 38\u001b[0m     result \u001b[38;5;241m=\u001b[39m \u001b[43msimulate_all\u001b[49m\u001b[43m(\u001b[49m\u001b[43mbs_df_list\u001b[49m\u001b[43m,\u001b[49m\u001b[43m \u001b[49m\u001b[43mdf_videos\u001b[49m\u001b[43m)\u001b[49m\n\u001b[1;32m     40\u001b[0m     bs_results\u001b[38;5;241m.\u001b[39mappend(result)\n\u001b[1;32m     42\u001b[0m result_df_list \u001b[38;5;241m=\u001b[39m [pd\u001b[38;5;241m.\u001b[39mDataFrame(columns\u001b[38;5;241m=\u001b[39mmodels) \u001b[38;5;28;01mfor\u001b[39;00m _ \u001b[38;5;129;01min\u001b[39;00m \u001b[38;5;28mrange\u001b[39m(\u001b[38;5;241m6\u001b[39m)]\n",
      "File \u001b[0;32m~/Documents/StudyMaterials/大四/Humaneval/humeval/simulate_2.py:481\u001b[0m, in \u001b[0;36msimulate_all\u001b[0;34m(df_inputs, df_videos, begain_count, groups_per_batch, M, N, decay_rate)\u001b[0m\n\u001b[1;32m    477\u001b[0m dfs \u001b[38;5;241m=\u001b[39m []\n\u001b[1;32m    479\u001b[0m \u001b[38;5;28;01mfor\u001b[39;00m df_input  \u001b[38;5;129;01min\u001b[39;00m df_inputs:\n\u001b[0;32m--> 481\u001b[0m     df_save, dimension_dfs \u001b[38;5;241m=\u001b[39m \u001b[43msimulate_score\u001b[49m\u001b[43m(\u001b[49m\u001b[43mdf_input\u001b[49m\u001b[43m,\u001b[49m\u001b[43mdf_videos\u001b[49m\u001b[43m,\u001b[49m\u001b[43mbegain_count\u001b[49m\u001b[43m,\u001b[49m\u001b[43mgroups_per_batch\u001b[49m\u001b[43m,\u001b[49m\u001b[43mM\u001b[49m\u001b[43m,\u001b[49m\u001b[43mN\u001b[49m\u001b[43m,\u001b[49m\u001b[43mdecay_rate\u001b[49m\u001b[43m)\u001b[49m\n\u001b[1;32m    483\u001b[0m     dfs\u001b[38;5;241m.\u001b[39mappend(df_save)\n\u001b[1;32m    485\u001b[0m     i \u001b[38;5;241m+\u001b[39m\u001b[38;5;241m=\u001b[39m \u001b[38;5;241m1\u001b[39m\n",
      "File \u001b[0;32m~/Documents/StudyMaterials/大四/Humaneval/humeval/simulate_2.py:429\u001b[0m, in \u001b[0;36msimulate_score\u001b[0;34m(df_input, df_videos, begain_count, groups_per_batch, M, N, decay_rate)\u001b[0m\n\u001b[1;32m    426\u001b[0m     count_num \u001b[38;5;241m+\u001b[39m\u001b[38;5;241m=\u001b[39m \u001b[38;5;241m1\u001b[39m\n\u001b[1;32m    428\u001b[0m \u001b[38;5;66;03m# 调用 rate 函数处理评分数据\u001b[39;00m\n\u001b[0;32m--> 429\u001b[0m     end,df_save \u001b[38;5;241m=\u001b[39m \u001b[43mrate\u001b[49m\u001b[43m(\u001b[49m\u001b[43mupdate_count\u001b[49m\u001b[43m,\u001b[49m\u001b[43mcomparisons_by_dimension\u001b[49m\u001b[43m,\u001b[49m\u001b[43m \u001b[49m\u001b[43mcount\u001b[49m\u001b[43m,\u001b[49m\u001b[43m \u001b[49m\u001b[43mrank_per_dimension\u001b[49m\u001b[43m,\u001b[49m\u001b[43meval_status_per_dimension\u001b[49m\u001b[43m,\u001b[49m\u001b[43m \u001b[49m\u001b[43mmodel_strengths_per_dimension\u001b[49m\u001b[43m,\u001b[49m\u001b[43m \u001b[49m\u001b[43mdf_save\u001b[49m\u001b[43m,\u001b[49m\u001b[43mfinal_ranking\u001b[49m\u001b[43m,\u001b[49m\u001b[43mfinal_score\u001b[49m\u001b[43m,\u001b[49m\u001b[43mN\u001b[49m\u001b[43m,\u001b[49m\u001b[43mpairs_id\u001b[49m\u001b[43m,\u001b[49m\u001b[43m \u001b[49m\u001b[43mvideo_url_1\u001b[49m\u001b[43m,\u001b[49m\u001b[43m \u001b[49m\u001b[43mvideo_url_2\u001b[49m\u001b[43m,\u001b[49m\u001b[43m \u001b[49m\u001b[43mmodel_1\u001b[49m\u001b[43m,\u001b[49m\u001b[43m \u001b[49m\u001b[43mmodel_2\u001b[49m\u001b[43m,\u001b[49m\u001b[43m \u001b[49m\u001b[43mbatch_rating\u001b[49m\u001b[43m,\u001b[49m\u001b[43m \u001b[49m\u001b[43mcount_num\u001b[49m\u001b[43m)\u001b[49m\n\u001b[1;32m    430\u001b[0m     \u001b[38;5;28;01mif\u001b[39;00m end:\n\u001b[1;32m    431\u001b[0m         \u001b[38;5;28;01mbreak\u001b[39;00m\n",
      "File \u001b[0;32m~/Documents/StudyMaterials/大四/Humaneval/humeval/simulate_2.py:278\u001b[0m, in \u001b[0;36mrate\u001b[0;34m(update_count, comparisons_by_dimension, count, rank_per_dimension, eval_status_per_dimension, model_strengths_per_dimension, df_save, final_ranking, final_score, N, pairs_id, video_url_1, video_url_2, model_1, model_2, ratings, count_num)\u001b[0m\n\u001b[1;32m    271\u001b[0m \u001b[38;5;28;01mdef\u001b[39;00m \u001b[38;5;21mrate\u001b[39m(update_count,comparisons_by_dimension, count, rank_per_dimension,eval_status_per_dimension, model_strengths_per_dimension, df_save,final_ranking,final_score,N,pairs_id,video_url_1,video_url_2, model_1,model_2,ratings,count_num):\n\u001b[1;32m    272\u001b[0m \n\u001b[1;32m    273\u001b[0m \n\u001b[1;32m    274\u001b[0m     \u001b[38;5;66;03m# 写入CSV文件\u001b[39;00m\n\u001b[1;32m    275\u001b[0m     \n\u001b[1;32m    276\u001b[0m     \u001b[38;5;66;03m# update_model_strengths(models[0], models[1], ratings)\u001b[39;00m\n\u001b[0;32m--> 278\u001b[0m     df_save,down \u001b[38;5;241m=\u001b[39m \u001b[43msubmit_result\u001b[49m\u001b[43m(\u001b[49m\u001b[43mupdate_count\u001b[49m\u001b[43m,\u001b[49m\u001b[43mcomparisons_by_dimension\u001b[49m\u001b[43m,\u001b[49m\u001b[43m \u001b[49m\u001b[43mcount\u001b[49m\u001b[43m,\u001b[49m\u001b[43m \u001b[49m\u001b[43mrank_per_dimension\u001b[49m\u001b[43m,\u001b[49m\u001b[43meval_status_per_dimension\u001b[49m\u001b[43m,\u001b[49m\u001b[43m \u001b[49m\u001b[43mmodel_strengths_per_dimension\u001b[49m\u001b[43m,\u001b[49m\u001b[43m \u001b[49m\u001b[43mdf_save\u001b[49m\u001b[43m,\u001b[49m\u001b[43mfinal_ranking\u001b[49m\u001b[43m,\u001b[49m\u001b[43mfinal_score\u001b[49m\u001b[43m,\u001b[49m\u001b[43mN\u001b[49m\u001b[43m,\u001b[49m\u001b[43mpairs_id\u001b[49m\u001b[43m,\u001b[49m\u001b[43mvideo_url_1\u001b[49m\u001b[43m,\u001b[49m\u001b[43mvideo_url_2\u001b[49m\u001b[43m,\u001b[49m\u001b[43m \u001b[49m\u001b[43mmodel_1\u001b[49m\u001b[43m,\u001b[49m\u001b[43mmodel_2\u001b[49m\u001b[43m,\u001b[49m\u001b[43mratings\u001b[49m\u001b[43m)\u001b[49m\n\u001b[1;32m    280\u001b[0m     \u001b[38;5;28;01mif\u001b[39;00m down :\n\u001b[1;32m    282\u001b[0m         \u001b[38;5;28;01mreturn\u001b[39;00m \u001b[38;5;28;01mTrue\u001b[39;00m,df_save\n",
      "File \u001b[0;32m~/Documents/StudyMaterials/大四/Humaneval/humeval/simulate_2.py:164\u001b[0m, in \u001b[0;36msubmit_result\u001b[0;34m(update_count, comparisons_by_dimension, count, rank_per_dimension, eval_status_per_dimension, model_strengths_per_dimension, df_save, final_ranking, final_score, N, pairs_id, video_url_1, video_url_2, model_1, model_2, ratings)\u001b[0m\n\u001b[1;32m    155\u001b[0m new_result \u001b[38;5;241m=\u001b[39m pd\u001b[38;5;241m.\u001b[39mDataFrame({\n\u001b[1;32m    156\u001b[0m     \u001b[38;5;124m'\u001b[39m\u001b[38;5;124mpairs_id\u001b[39m\u001b[38;5;124m'\u001b[39m: [pairs_id],\n\u001b[1;32m    157\u001b[0m     \u001b[38;5;124m'\u001b[39m\u001b[38;5;124mmodel_1\u001b[39m\u001b[38;5;124m'\u001b[39m: [model_1],\n\u001b[1;32m    158\u001b[0m     \u001b[38;5;124m'\u001b[39m\u001b[38;5;124mmodel_2\u001b[39m\u001b[38;5;124m'\u001b[39m: [model_2],\n\u001b[1;32m    159\u001b[0m     \u001b[38;5;124m'\u001b[39m\u001b[38;5;124mrating\u001b[39m\u001b[38;5;124m'\u001b[39m: [\u001b[38;5;28mint\u001b[39m(rate_value)]\n\u001b[1;32m    160\u001b[0m }, index\u001b[38;5;241m=\u001b[39m[\u001b[38;5;241m0\u001b[39m])\n\u001b[1;32m    163\u001b[0m         \u001b[38;5;66;03m# 创建新行数据\u001b[39;00m\n\u001b[0;32m--> 164\u001b[0m new_row \u001b[38;5;241m=\u001b[39m \u001b[43mpd\u001b[49m\u001b[38;5;241;43m.\u001b[39;49m\u001b[43mDataFrame\u001b[49m\u001b[43m(\u001b[49m\u001b[43m{\u001b[49m\n\u001b[1;32m    165\u001b[0m \u001b[43m    \u001b[49m\u001b[38;5;124;43m'\u001b[39;49m\u001b[38;5;124;43mpairs_id\u001b[39;49m\u001b[38;5;124;43m'\u001b[39;49m\u001b[43m:\u001b[49m\u001b[43m \u001b[49m\u001b[43m[\u001b[49m\u001b[43mpairs_id\u001b[49m\u001b[43m]\u001b[49m\u001b[43m,\u001b[49m\n\u001b[1;32m    166\u001b[0m \u001b[43m    \u001b[49m\u001b[38;5;124;43m'\u001b[39;49m\u001b[38;5;124;43mmodel_1\u001b[39;49m\u001b[38;5;124;43m'\u001b[39;49m\u001b[43m:\u001b[49m\u001b[43m \u001b[49m\u001b[43m[\u001b[49m\u001b[43mmodel_1\u001b[49m\u001b[43m]\u001b[49m\u001b[43m,\u001b[49m\n\u001b[1;32m    167\u001b[0m \u001b[43m    \u001b[49m\u001b[38;5;124;43m'\u001b[39;49m\u001b[38;5;124;43mmodel_2\u001b[39;49m\u001b[38;5;124;43m'\u001b[39;49m\u001b[43m:\u001b[49m\u001b[43m \u001b[49m\u001b[43m[\u001b[49m\u001b[43mmodel_2\u001b[49m\u001b[43m]\u001b[49m\u001b[43m,\u001b[49m\n\u001b[1;32m    168\u001b[0m \u001b[43m    \u001b[49m\u001b[38;5;124;43m'\u001b[39;49m\u001b[38;5;124;43mvideo_url_1\u001b[39;49m\u001b[38;5;124;43m'\u001b[39;49m\u001b[43m:\u001b[49m\u001b[43m \u001b[49m\u001b[43m[\u001b[49m\u001b[43mvideo_url_1\u001b[49m\u001b[43m]\u001b[49m\u001b[43m,\u001b[49m\n\u001b[1;32m    169\u001b[0m \u001b[43m    \u001b[49m\u001b[38;5;124;43m'\u001b[39;49m\u001b[38;5;124;43mvideo_url_2\u001b[39;49m\u001b[38;5;124;43m'\u001b[39;49m\u001b[43m:\u001b[49m\u001b[43m \u001b[49m\u001b[43m[\u001b[49m\u001b[43mvideo_url_2\u001b[49m\u001b[43m]\u001b[49m\u001b[43m,\u001b[49m\n\u001b[1;32m    170\u001b[0m \u001b[43m    \u001b[49m\u001b[38;5;124;43m'\u001b[39;49m\u001b[38;5;124;43mdimension\u001b[39;49m\u001b[38;5;124;43m'\u001b[39;49m\u001b[43m:\u001b[49m\u001b[43m \u001b[49m\u001b[43m[\u001b[49m\u001b[43mdimension\u001b[49m\u001b[43m]\u001b[49m\u001b[43m,\u001b[49m\n\u001b[1;32m    171\u001b[0m \u001b[43m    \u001b[49m\u001b[38;5;124;43m'\u001b[39;49m\u001b[38;5;124;43mrating\u001b[39;49m\u001b[38;5;124;43m'\u001b[39;49m\u001b[43m:\u001b[49m\u001b[43m \u001b[49m\u001b[43m[\u001b[49m\u001b[38;5;28;43mint\u001b[39;49m\u001b[43m(\u001b[49m\u001b[43mrate_value\u001b[49m\u001b[43m)\u001b[49m\u001b[43m]\u001b[49m\n\u001b[1;32m    172\u001b[0m \u001b[43m\u001b[49m\u001b[43m}\u001b[49m\u001b[43m,\u001b[49m\u001b[43m \u001b[49m\u001b[43mindex\u001b[49m\u001b[38;5;241;43m=\u001b[39;49m\u001b[43m[\u001b[49m\u001b[38;5;241;43m0\u001b[39;49m\u001b[43m]\u001b[49m\u001b[43m)\u001b[49m\n\u001b[1;32m    175\u001b[0m \u001b[38;5;66;03m# 将新行数据添加到DataFrame\u001b[39;00m\n\u001b[1;32m    176\u001b[0m df_save \u001b[38;5;241m=\u001b[39m pd\u001b[38;5;241m.\u001b[39mconcat([df_save, new_row], ignore_index\u001b[38;5;241m=\u001b[39m\u001b[38;5;28;01mTrue\u001b[39;00m)\n",
      "File \u001b[0;32m/opt/miniconda3/envs/ML/lib/python3.9/site-packages/pandas/core/frame.py:778\u001b[0m, in \u001b[0;36mDataFrame.__init__\u001b[0;34m(self, data, index, columns, dtype, copy)\u001b[0m\n\u001b[1;32m    772\u001b[0m     mgr \u001b[38;5;241m=\u001b[39m \u001b[38;5;28mself\u001b[39m\u001b[38;5;241m.\u001b[39m_init_mgr(\n\u001b[1;32m    773\u001b[0m         data, axes\u001b[38;5;241m=\u001b[39m{\u001b[38;5;124m\"\u001b[39m\u001b[38;5;124mindex\u001b[39m\u001b[38;5;124m\"\u001b[39m: index, \u001b[38;5;124m\"\u001b[39m\u001b[38;5;124mcolumns\u001b[39m\u001b[38;5;124m\"\u001b[39m: columns}, dtype\u001b[38;5;241m=\u001b[39mdtype, copy\u001b[38;5;241m=\u001b[39mcopy\n\u001b[1;32m    774\u001b[0m     )\n\u001b[1;32m    776\u001b[0m \u001b[38;5;28;01melif\u001b[39;00m \u001b[38;5;28misinstance\u001b[39m(data, \u001b[38;5;28mdict\u001b[39m):\n\u001b[1;32m    777\u001b[0m     \u001b[38;5;66;03m# GH#38939 de facto copy defaults to False only in non-dict cases\u001b[39;00m\n\u001b[0;32m--> 778\u001b[0m     mgr \u001b[38;5;241m=\u001b[39m \u001b[43mdict_to_mgr\u001b[49m\u001b[43m(\u001b[49m\u001b[43mdata\u001b[49m\u001b[43m,\u001b[49m\u001b[43m \u001b[49m\u001b[43mindex\u001b[49m\u001b[43m,\u001b[49m\u001b[43m \u001b[49m\u001b[43mcolumns\u001b[49m\u001b[43m,\u001b[49m\u001b[43m \u001b[49m\u001b[43mdtype\u001b[49m\u001b[38;5;241;43m=\u001b[39;49m\u001b[43mdtype\u001b[49m\u001b[43m,\u001b[49m\u001b[43m \u001b[49m\u001b[43mcopy\u001b[49m\u001b[38;5;241;43m=\u001b[39;49m\u001b[43mcopy\u001b[49m\u001b[43m,\u001b[49m\u001b[43m \u001b[49m\u001b[43mtyp\u001b[49m\u001b[38;5;241;43m=\u001b[39;49m\u001b[43mmanager\u001b[49m\u001b[43m)\u001b[49m\n\u001b[1;32m    779\u001b[0m \u001b[38;5;28;01melif\u001b[39;00m \u001b[38;5;28misinstance\u001b[39m(data, ma\u001b[38;5;241m.\u001b[39mMaskedArray):\n\u001b[1;32m    780\u001b[0m     \u001b[38;5;28;01mfrom\u001b[39;00m \u001b[38;5;21;01mnumpy\u001b[39;00m\u001b[38;5;21;01m.\u001b[39;00m\u001b[38;5;21;01mma\u001b[39;00m \u001b[38;5;28;01mimport\u001b[39;00m mrecords\n",
      "File \u001b[0;32m/opt/miniconda3/envs/ML/lib/python3.9/site-packages/pandas/core/internals/construction.py:480\u001b[0m, in \u001b[0;36mdict_to_mgr\u001b[0;34m(data, index, columns, dtype, typ, copy)\u001b[0m\n\u001b[1;32m    478\u001b[0m \u001b[38;5;28;01melse\u001b[39;00m:\n\u001b[1;32m    479\u001b[0m     keys \u001b[38;5;241m=\u001b[39m \u001b[38;5;28mlist\u001b[39m(data\u001b[38;5;241m.\u001b[39mkeys())\n\u001b[0;32m--> 480\u001b[0m     columns \u001b[38;5;241m=\u001b[39m \u001b[43mIndex\u001b[49m\u001b[43m(\u001b[49m\u001b[43mkeys\u001b[49m\u001b[43m)\u001b[49m \u001b[38;5;28;01mif\u001b[39;00m keys \u001b[38;5;28;01melse\u001b[39;00m default_index(\u001b[38;5;241m0\u001b[39m)\n\u001b[1;32m    481\u001b[0m     arrays \u001b[38;5;241m=\u001b[39m [com\u001b[38;5;241m.\u001b[39mmaybe_iterable_to_list(data[k]) \u001b[38;5;28;01mfor\u001b[39;00m k \u001b[38;5;129;01min\u001b[39;00m keys]\n\u001b[1;32m    483\u001b[0m \u001b[38;5;28;01mif\u001b[39;00m copy:\n",
      "File \u001b[0;32m/opt/miniconda3/envs/ML/lib/python3.9/site-packages/pandas/core/indexes/base.py:565\u001b[0m, in \u001b[0;36mIndex.__new__\u001b[0;34m(cls, data, dtype, copy, name, tupleize_cols)\u001b[0m\n\u001b[1;32m    562\u001b[0m         data \u001b[38;5;241m=\u001b[39m com\u001b[38;5;241m.\u001b[39masarray_tuplesafe(data, dtype\u001b[38;5;241m=\u001b[39m_dtype_obj)\n\u001b[1;32m    564\u001b[0m \u001b[38;5;28;01mtry\u001b[39;00m:\n\u001b[0;32m--> 565\u001b[0m     arr \u001b[38;5;241m=\u001b[39m \u001b[43msanitize_array\u001b[49m\u001b[43m(\u001b[49m\u001b[43mdata\u001b[49m\u001b[43m,\u001b[49m\u001b[43m \u001b[49m\u001b[38;5;28;43;01mNone\u001b[39;49;00m\u001b[43m,\u001b[49m\u001b[43m \u001b[49m\u001b[43mdtype\u001b[49m\u001b[38;5;241;43m=\u001b[39;49m\u001b[43mdtype\u001b[49m\u001b[43m,\u001b[49m\u001b[43m \u001b[49m\u001b[43mcopy\u001b[49m\u001b[38;5;241;43m=\u001b[39;49m\u001b[43mcopy\u001b[49m\u001b[43m)\u001b[49m\n\u001b[1;32m    566\u001b[0m \u001b[38;5;28;01mexcept\u001b[39;00m \u001b[38;5;167;01mValueError\u001b[39;00m \u001b[38;5;28;01mas\u001b[39;00m err:\n\u001b[1;32m    567\u001b[0m     \u001b[38;5;28;01mif\u001b[39;00m \u001b[38;5;124m\"\u001b[39m\u001b[38;5;124mindex must be specified when data is not list-like\u001b[39m\u001b[38;5;124m\"\u001b[39m \u001b[38;5;129;01min\u001b[39;00m \u001b[38;5;28mstr\u001b[39m(err):\n",
      "File \u001b[0;32m/opt/miniconda3/envs/ML/lib/python3.9/site-packages/pandas/core/construction.py:657\u001b[0m, in \u001b[0;36msanitize_array\u001b[0;34m(data, index, dtype, copy, allow_2d)\u001b[0m\n\u001b[1;32m    655\u001b[0m         \u001b[38;5;28;01mif\u001b[39;00m subarr\u001b[38;5;241m.\u001b[39mdtype \u001b[38;5;241m==\u001b[39m \u001b[38;5;28mobject\u001b[39m:\n\u001b[1;32m    656\u001b[0m             subarr \u001b[38;5;241m=\u001b[39m cast(np\u001b[38;5;241m.\u001b[39mndarray, subarr)\n\u001b[0;32m--> 657\u001b[0m             subarr \u001b[38;5;241m=\u001b[39m \u001b[43mmaybe_infer_to_datetimelike\u001b[49m\u001b[43m(\u001b[49m\u001b[43msubarr\u001b[49m\u001b[43m)\u001b[49m\n\u001b[1;32m    659\u001b[0m subarr \u001b[38;5;241m=\u001b[39m _sanitize_ndim(subarr, data, dtype, index, allow_2d\u001b[38;5;241m=\u001b[39mallow_2d)\n\u001b[1;32m    661\u001b[0m \u001b[38;5;28;01mif\u001b[39;00m \u001b[38;5;28misinstance\u001b[39m(subarr, np\u001b[38;5;241m.\u001b[39mndarray):\n\u001b[1;32m    662\u001b[0m     \u001b[38;5;66;03m# at this point we should have dtype be None or subarr.dtype == dtype\u001b[39;00m\n",
      "File \u001b[0;32m/opt/miniconda3/envs/ML/lib/python3.9/site-packages/pandas/core/dtypes/cast.py:1196\u001b[0m, in \u001b[0;36mmaybe_infer_to_datetimelike\u001b[0;34m(value)\u001b[0m\n\u001b[1;32m   1185\u001b[0m     \u001b[38;5;28;01mreturn\u001b[39;00m value\n\u001b[1;32m   1187\u001b[0m \u001b[38;5;66;03m# error: Incompatible return value type (got \"Union[ExtensionArray,\u001b[39;00m\n\u001b[1;32m   1188\u001b[0m \u001b[38;5;66;03m# ndarray[Any, Any]]\", expected \"Union[ndarray[Any, Any], DatetimeArray,\u001b[39;00m\n\u001b[1;32m   1189\u001b[0m \u001b[38;5;66;03m# TimedeltaArray, PeriodArray, IntervalArray]\")\u001b[39;00m\n\u001b[1;32m   1190\u001b[0m \u001b[38;5;28;01mreturn\u001b[39;00m lib\u001b[38;5;241m.\u001b[39mmaybe_convert_objects(  \u001b[38;5;66;03m# type: ignore[return-value]\u001b[39;00m\n\u001b[1;32m   1191\u001b[0m     value,\n\u001b[1;32m   1192\u001b[0m     \u001b[38;5;66;03m# Here we do not convert numeric dtypes, as if we wanted that,\u001b[39;00m\n\u001b[1;32m   1193\u001b[0m     \u001b[38;5;66;03m#  numpy would have done it for us.\u001b[39;00m\n\u001b[1;32m   1194\u001b[0m     convert_numeric\u001b[38;5;241m=\u001b[39m\u001b[38;5;28;01mFalse\u001b[39;00m,\n\u001b[1;32m   1195\u001b[0m     convert_non_numeric\u001b[38;5;241m=\u001b[39m\u001b[38;5;28;01mTrue\u001b[39;00m,\n\u001b[0;32m-> 1196\u001b[0m     dtype_if_all_nat\u001b[38;5;241m=\u001b[39m\u001b[43mnp\u001b[49m\u001b[38;5;241;43m.\u001b[39;49m\u001b[43mdtype\u001b[49m(\u001b[38;5;124m\"\u001b[39m\u001b[38;5;124mM8[ns]\u001b[39m\u001b[38;5;124m\"\u001b[39m),\n\u001b[1;32m   1197\u001b[0m )\n",
      "\u001b[0;31mKeyboardInterrupt\u001b[0m: "
     ]
    }
   ],
   "source": [
    "from simulate_2 import *\n",
    "import pandas as pd\n",
    "import numpy as np\n",
    "import matplotlib.pyplot as plt\n",
    "import os\n",
    "\n",
    "path_eval_data = 'data/batch100'\n",
    "df_videos = pd.read_csv('data/videos_all_with_result.csv')\n",
    "df_videos.fillna(0, inplace=True)\n",
    "\n",
    "df_list = []\n",
    "\n",
    "for file in os.listdir(path_eval_data):\n",
    "    \n",
    "    if file.endswith('.csv'):\n",
    "        file_path = os.path.join(path_eval_data, file)\n",
    "        df = pd.read_csv(file_path)\n",
    "        \n",
    "        df_list.append(df)\n",
    "\n",
    "all_data = pd.concat(df_list, ignore_index=True)\n",
    "\n",
    "models = ['gen2', 'latte', 'pika', 'vgen', 'videocrafter2']\n",
    "# Bootstrap\n",
    "G = 100\n",
    "\n",
    "bs_results = []\n",
    "\n",
    "for _ in range(G):\n",
    "    \n",
    "    bs_df_list = []\n",
    "    \n",
    "    #resampling\n",
    "    for df in df_list:\n",
    "        indices = np.random.choice(df.index, len(df))\n",
    "        bs_df_list.append(df.loc[indices])\n",
    "        \n",
    "    result = simulate_all(bs_df_list, df_videos)\n",
    "    \n",
    "    bs_results.append(result)\n",
    "    \n",
    "    print('Bootstrap {} done'.format(_+1))\n",
    "\n",
    "result_df_list = [pd.DataFrame(columns=models) for _ in range(6)]\n",
    "\n",
    "for result in bs_results:\n",
    "    for key in result.keys():\n",
    "        result_df_list[key-1] = pd.concat([result_df_list[key-1], \n",
    "                                           pd.DataFrame([result[key]])], \n",
    "                                          ignore_index=True, axis=0)\n",
    "\n",
    "# mkdir data/bs_result if not exist\n",
    "if not os.path.exists('data/bs_result'):\n",
    "    os.makedirs('data/bs_result')\n",
    "\n",
    "for i in range(6):\n",
    "    result_df_list[i].to_csv('data/bs_result/bs_result_{}.csv'.format(i+1), index=False)\n",
    "    "
   ]
  },
  {
   "cell_type": "code",
   "execution_count": 5,
   "metadata": {},
   "outputs": [],
   "source": [
    "\n"
   ]
  }
 ],
 "metadata": {
  "kernelspec": {
   "display_name": "ML",
   "language": "python",
   "name": "python3"
  },
  "language_info": {
   "codemirror_mode": {
    "name": "ipython",
    "version": 3
   },
   "file_extension": ".py",
   "mimetype": "text/x-python",
   "name": "python",
   "nbconvert_exporter": "python",
   "pygments_lexer": "ipython3",
   "version": "3.9.13"
  }
 },
 "nbformat": 4,
 "nbformat_minor": 2
}
