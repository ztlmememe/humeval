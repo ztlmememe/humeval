{
 "cells": [
  {
   "cell_type": "code",
   "execution_count": 4,
   "metadata": {},
   "outputs": [],
   "source": [
    "from simulate_2 import *\n",
    "import pandas as pd\n",
    "import numpy as np\n",
    "import matplotlib.pyplot as plt\n",
    "import os"
   ]
  },
  {
   "cell_type": "code",
   "execution_count": 5,
   "metadata": {},
   "outputs": [],
   "source": [
    "path_eval_data = 'data/batch100'\n",
    "df_videos = pd.read_csv('data/videos_all_with_result.csv')\n",
    "df_videos.fillna(0, inplace=True)\n",
    "\n",
    "df_list = []\n",
    "\n",
    "for file in os.listdir(path_eval_data):\n",
    "    \n",
    "    if file.endswith('.csv'):\n",
    "        file_path = os.path.join(path_eval_data, file)\n",
    "        df = pd.read_csv(file_path)\n",
    "        \n",
    "        df_list.append(df)\n",
    "\n",
    "all_data = pd.concat(df_list, ignore_index=True)\n"
   ]
  },
  {
   "cell_type": "code",
   "execution_count": 25,
   "metadata": {},
   "outputs": [
    {
     "name": "stdout",
     "output_type": "stream",
     "text": [
      "The video evaluation is complete completed_pairs 945\n"
     ]
    }
   ],
   "source": [
    "dimension_dfs = simulate_score(all_data, df_videos)"
   ]
  },
  {
   "cell_type": "code",
   "execution_count": 28,
   "metadata": {},
   "outputs": [
    {
     "data": {
      "text/plain": [
       "{1: {'gen2': 1.8251286626506007,\n",
       "  'latte': 0.8156453578640052,\n",
       "  'pika': 1.6392797407507635,\n",
       "  'vgen': 0.8935748486695141,\n",
       "  'videocrafter2': 1.0398878272478498},\n",
       " 2: {'gen2': 1.7055955529924234,\n",
       "  'latte': 0.9742516278155281,\n",
       "  'pika': 1.395929614986037,\n",
       "  'vgen': 0.9201514292385949,\n",
       "  'videocrafter2': 1.0137099763233477},\n",
       " 3: {'gen2': 1.8556927625936368,\n",
       "  'latte': 0.9718389521913354,\n",
       "  'pika': 1.5801488619546875,\n",
       "  'vgen': 0.9867502487143006,\n",
       "  'videocrafter2': 0.8024037333540085},\n",
       " 4: {'gen2': 2.67387143326593,\n",
       "  'latte': 1.7104180434600003,\n",
       "  'pika': 1.1190569497582796,\n",
       "  'vgen': 0.6408954629613901,\n",
       "  'videocrafter2': 0.44448270862106637},\n",
       " 5: {'gen2': 3.0311632982527263,\n",
       "  'latte': 1.6084942613232351,\n",
       "  'pika': 0.9441294052815591,\n",
       "  'vgen': 0.5814104533528426,\n",
       "  'videocrafter2': 0.36512817783501533},\n",
       " 6: {'gen2': 2.334349388748243,\n",
       "  'latte': 0.8667124067633677,\n",
       "  'pika': 1.2656571188846666,\n",
       "  'vgen': 0.7332367968512113,\n",
       "  'videocrafter2': 0.8414687435979042}}"
      ]
     },
     "execution_count": 28,
     "metadata": {},
     "output_type": "execute_result"
    }
   ],
   "source": [
    "dimension_dfs[1]"
   ]
  },
  {
   "cell_type": "code",
   "execution_count": 32,
   "metadata": {},
   "outputs": [
    {
     "data": {
      "text/plain": [
       "dict"
      ]
     },
     "execution_count": 32,
     "metadata": {},
     "output_type": "execute_result"
    }
   ],
   "source": [
    "dicts = dimension_dfs[1]\n",
    "type(dicts[1])"
   ]
  },
  {
   "cell_type": "code",
   "execution_count": 23,
   "metadata": {},
   "outputs": [
    {
     "data": {
      "text/plain": [
       "['gen2', 'latte', 'pika', 'vgen', 'videocrafter2']"
      ]
     },
     "execution_count": 23,
     "metadata": {},
     "output_type": "execute_result"
    }
   ],
   "source": [
    "models = list(dimension_dfs.keys())\n",
    "models"
   ]
  },
  {
   "cell_type": "code",
   "execution_count": 46,
   "metadata": {},
   "outputs": [
    {
     "data": {
      "text/plain": [
       "{'gen2': 1.8251286626506007,\n",
       " 'latte': 0.8156453578640052,\n",
       " 'pika': 1.6392797407507635,\n",
       " 'vgen': 0.8935748486695141,\n",
       " 'videocrafter2': 1.0398878272478498}"
      ]
     },
     "execution_count": 46,
     "metadata": {},
     "output_type": "execute_result"
    }
   ],
   "source": [
    "dimension_dfs[1][1]"
   ]
  },
  {
   "cell_type": "code",
   "execution_count": 38,
   "metadata": {},
   "outputs": [
    {
     "data": {
      "text/plain": [
       "array([10869,  4508,  2001, ...,  8642,   489,  3740])"
      ]
     },
     "execution_count": 38,
     "metadata": {},
     "output_type": "execute_result"
    }
   ],
   "source": [
    "np.random.choice(df_list[0].index, len(df_list[0]))"
   ]
  },
  {
   "cell_type": "code",
   "execution_count": 52,
   "metadata": {},
   "outputs": [
    {
     "data": {
      "text/html": [
       "<div>\n",
       "<style scoped>\n",
       "    .dataframe tbody tr th:only-of-type {\n",
       "        vertical-align: middle;\n",
       "    }\n",
       "\n",
       "    .dataframe tbody tr th {\n",
       "        vertical-align: top;\n",
       "    }\n",
       "\n",
       "    .dataframe thead th {\n",
       "        text-align: right;\n",
       "    }\n",
       "</style>\n",
       "<table border=\"1\" class=\"dataframe\">\n",
       "  <thead>\n",
       "    <tr style=\"text-align: right;\">\n",
       "      <th></th>\n",
       "      <th>gen2</th>\n",
       "      <th>latte</th>\n",
       "      <th>pika</th>\n",
       "      <th>vgen</th>\n",
       "      <th>videocrafter2</th>\n",
       "    </tr>\n",
       "  </thead>\n",
       "  <tbody>\n",
       "    <tr>\n",
       "      <th>0</th>\n",
       "      <td>1.825129</td>\n",
       "      <td>0.815645</td>\n",
       "      <td>1.63928</td>\n",
       "      <td>0.893575</td>\n",
       "      <td>1.039888</td>\n",
       "    </tr>\n",
       "  </tbody>\n",
       "</table>\n",
       "</div>"
      ],
      "text/plain": [
       "       gen2     latte     pika      vgen  videocrafter2\n",
       "0  1.825129  0.815645  1.63928  0.893575       1.039888"
      ]
     },
     "execution_count": 52,
     "metadata": {},
     "output_type": "execute_result"
    }
   ],
   "source": [
    "test_d = dimension_dfs[1][1]\n",
    "pd.DataFrame([test_d])"
   ]
  },
  {
   "cell_type": "code",
   "execution_count": 50,
   "metadata": {},
   "outputs": [
    {
     "data": {
      "text/plain": [
       "dict_items([('gen2', 1.8251286626506007), ('latte', 0.8156453578640052), ('pika', 1.6392797407507635), ('vgen', 0.8935748486695141), ('videocrafter2', 1.0398878272478498)])"
      ]
     },
     "execution_count": 50,
     "metadata": {},
     "output_type": "execute_result"
    }
   ],
   "source": [
    "test_d."
   ]
  },
  {
   "cell_type": "code",
   "execution_count": 56,
   "metadata": {},
   "outputs": [
    {
     "name": "stdout",
     "output_type": "stream",
     "text": [
      "1\n",
      "2\n",
      "3\n",
      "4\n",
      "5\n",
      "6\n"
     ]
    }
   ],
   "source": [
    "for i in dicts.keys():\n",
    "    print(i)\n"
   ]
  },
  {
   "cell_type": "code",
   "execution_count": 57,
   "metadata": {},
   "outputs": [
    {
     "data": {
      "text/plain": [
       "{1: {'gen2': 1.8251286626506007,\n",
       "  'latte': 0.8156453578640052,\n",
       "  'pika': 1.6392797407507635,\n",
       "  'vgen': 0.8935748486695141,\n",
       "  'videocrafter2': 1.0398878272478498},\n",
       " 2: {'gen2': 1.7055955529924234,\n",
       "  'latte': 0.9742516278155281,\n",
       "  'pika': 1.395929614986037,\n",
       "  'vgen': 0.9201514292385949,\n",
       "  'videocrafter2': 1.0137099763233477},\n",
       " 3: {'gen2': 1.8556927625936368,\n",
       "  'latte': 0.9718389521913354,\n",
       "  'pika': 1.5801488619546875,\n",
       "  'vgen': 0.9867502487143006,\n",
       "  'videocrafter2': 0.8024037333540085},\n",
       " 4: {'gen2': 2.67387143326593,\n",
       "  'latte': 1.7104180434600003,\n",
       "  'pika': 1.1190569497582796,\n",
       "  'vgen': 0.6408954629613901,\n",
       "  'videocrafter2': 0.44448270862106637},\n",
       " 5: {'gen2': 3.0311632982527263,\n",
       "  'latte': 1.6084942613232351,\n",
       "  'pika': 0.9441294052815591,\n",
       "  'vgen': 0.5814104533528426,\n",
       "  'videocrafter2': 0.36512817783501533},\n",
       " 6: {'gen2': 2.334349388748243,\n",
       "  'latte': 0.8667124067633677,\n",
       "  'pika': 1.2656571188846666,\n",
       "  'vgen': 0.7332367968512113,\n",
       "  'videocrafter2': 0.8414687435979042}}"
      ]
     },
     "execution_count": 57,
     "metadata": {},
     "output_type": "execute_result"
    }
   ],
   "source": [
    "dicts"
   ]
  },
  {
   "cell_type": "code",
   "execution_count": 4,
   "metadata": {},
   "outputs": [
    {
     "data": {
      "text/plain": [
       "{'gen2': 2.5172532923404143,\n",
       " 'latte': 0.9910847205762181,\n",
       " 'pika': 1.0645878012560475,\n",
       " 'vgen': 0.7624876910198913,\n",
       " 'videocrafter2': 0.6217918939720052}"
      ]
     },
     "execution_count": 4,
     "metadata": {},
     "output_type": "execute_result"
    }
   ],
   "source": [
    "# Bootstrap\n",
    "G = 100\n",
    "\n",
    "bs_results = []\n",
    "\n",
    "for _ in range(G):\n",
    "    \n",
    "    bs_df_list = []\n",
    "    \n",
    "    #resampling\n",
    "    for df in df_list:\n",
    "        indices = np.random.choice(df.index, len(df))\n",
    "        bs_df_list.append(df[indices])\n",
    "        \n",
    "    result = simulate_all(bs_df_list, df_videos)\n",
    "    \n",
    "    bs_results.append(result)\n",
    "\n",
    "result_df_list = [pd.DataFrame(columns=models) for _ in range(6)]\n",
    "\n",
    "for result in bs_results:\n",
    "    for key in result.keys():\n",
    "        result_df_list[key-1] = pd.concat([result_df_list[key-1], \n",
    "                                           pd.DataFrame([result[key]])], \n",
    "                                          ignore_index=True, axis=0)\n",
    "\n",
    "# mkdir data/bs_result if not exist\n",
    "if not os.path.exists('data/bs_result'):\n",
    "    os.makedirs('data/bs_result')\n",
    "\n",
    "for i in range(6):\n",
    "    result_df_list[i].to_csv('data/bs_result/bs_result_{}.csv'.format(i+1), index=False)\n",
    "    "
   ]
  }
 ],
 "metadata": {
  "kernelspec": {
   "display_name": "ML",
   "language": "python",
   "name": "python3"
  },
  "language_info": {
   "codemirror_mode": {
    "name": "ipython",
    "version": 3
   },
   "file_extension": ".py",
   "mimetype": "text/x-python",
   "name": "python",
   "nbconvert_exporter": "python",
   "pygments_lexer": "ipython3",
   "version": "3.9.13"
  }
 },
 "nbformat": 4,
 "nbformat_minor": 2
}
